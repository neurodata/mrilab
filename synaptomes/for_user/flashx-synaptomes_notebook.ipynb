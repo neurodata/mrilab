{
 "cells": [
  {
   "cell_type": "markdown",
   "metadata": {},
   "source": [
    "# Synaptomes Notebook\n",
    "\n",
    "In this notebook, we will attempt to cluster large synapse data using the FlashX Gaussian Mixture Model (GMM) code.\n",
    "\n",
    "# Data\n",
    "\n",
    "In this experiment, we will utilize 20 channel array tomagraphy data.\n",
    "\n",
    "The process of collecting array tomography data is relatively straightforward. Brain tissue is embedded with plastic, and this plastic-embedded tissue is then sectioned into ultrathin 2D chunks which can then be imaged using various wavelengths of light with a microscope. After imaging, the 2D sections can be reconstructed to yield a representation of the original 3D object.\n",
    "\n",
    "Each protein has a unique \"protein fluorescence\" which gives it a particular color under different light intensities. In this data, we look at 20 different channels of light intensities, corresponding to the fluorescences of 20 proteins we want to look at. We cut out a 10x10x10 voxel cube around putative synapse locations, and for each channel sum the intensities of all 10x10x10 voxels to form a 20-dimensional feature vector for each putative synapse location. \n",
    "\n",
    "# Gaussian Mixture Model\n",
    "\n",
    "In this setting, we assume that the different synapse types can be expressed as a multivariate Gaussian with parameters $\\theta = \\{\\mu, \\Sigma\\}$, with one dimension for each channel. We will use the unsupervised Gaussian Mixture Model technique to find the \"most-likely\" parameters for our gaussians with arbitrary numbers of classes.\n",
    "\n",
    "For each data point, we know that there exists some unknown, latent variable $z$ that represents the true synapse class of the data point. Under this setting, the probability that a given feature vector $x$ can be explained by some arbitrary synapse type $c$ as:\n",
    "\n",
    "\\begin{align*}\n",
    "    p(x | z = c) = \\mathcal{N}(x | \\mu_c, \\Sigma_c)\n",
    "\\end{align*}\n",
    "\n",
    "Then the probability of our feature vector being explained by any synapse type can be defined:\n",
    "\n",
    "\\begin{align*}\n",
    "    p(x) &= \\sum_c p(x | z = c) \\\\\n",
    "    &= \\sum_c \\pi_c \\mathcal{N}(x | \\mu_c, \\Sigma_c)\n",
    "\\end{align*}\n",
    "\n",
    "where $\\pi_c = p(z = c)$, or the total probability that our latent $z$ is the class $c$. \n"
   ]
  },
  {
   "cell_type": "code",
   "execution_count": 1,
   "metadata": {},
   "outputs": [
    {
     "name": "stderr",
     "output_type": "stream",
     "text": [
      "Loading required package: pcg\n",
      "Loading required package: FlashR\n",
      "Loading required package: RSpectra\n",
      "Loading required package: Rcpp\n",
      "\n",
      "Attaching package: 'FlashR'\n",
      "\n",
      "The following objects are masked from 'package:base':\n",
      "\n",
      "    cbind, pmax, pmin, rbind\n",
      "\n"
     ]
    }
   ],
   "source": [
    "library(rhdf5)\n",
    "library(FlashRLearn)"
   ]
  },
  {
   "cell_type": "code",
   "execution_count": 2,
   "metadata": {
    "collapsed": true
   },
   "outputs": [],
   "source": [
    "data <- h5read(\"/data/k15f0.h5\", \"datatable/F0\")\n",
    "fm.data <- fm.as.matrix(as.matrix(data))"
   ]
  },
  {
   "cell_type": "code",
   "execution_count": 3,
   "metadata": {
    "collapsed": true
   },
   "outputs": [],
   "source": [
    "source(\"/FlashX/FlashR-learn/R/GMM.R\")\n",
    "source('./analyze_performance.R')"
   ]
  },
  {
   "cell_type": "code",
   "execution_count": 17,
   "metadata": {
    "collapsed": true
   },
   "outputs": [],
   "source": [
    "ks <- seq(from=2, to=20, by=2)\n",
    "scores <- matrix(0, nrow=length(ks), 2)\n",
    "results.bic <- array(NaN, dim=c(length(ks)))\n",
    "results.time <- array(NaN, dim=c(length(ks)))\n",
    "results.mem <- array(NaN, dim=c(length(ks)))\n",
    "results.means <- list()\n",
    "\n",
    "# FlashX implementation\n",
    "for (i in 1:length(ks)) {\n",
    "    res <- analyze_performance(GMM.fit, list(fm.data, k=ks[i], cov.type = \"diag\"))\n",
    "    results.bic[i] <- BIC(res$out)\n",
    "    results.time[i] <- res$time\n",
    "    results.mem[i] <- res$mem\n",
    "    results.means[[i]] <- res$out$means\n",
    "}"
   ]
  },
  {
   "cell_type": "code",
   "execution_count": 18,
   "metadata": {},
   "outputs": [
    {
     "name": "stdout",
     "output_type": "stream",
     "text": [
      "FlashR matrix : 1119299 rows, 20 columns, is sparse: FALSE\n",
      "[1] 622813232\n"
     ]
    }
   ],
   "source": [
    "print(res$out$loglik)\n",
    "print(max(results.bic))"
   ]
  },
  {
   "cell_type": "code",
   "execution_count": 9,
   "metadata": {},
   "outputs": [
    {
     "name": "stdout",
     "output_type": "stream",
     "text": [
      "[1] \"full: k=2, BIC=615753118.426505\"\n",
      "[1] \"full: k=4, BIC=610074783.187261\"\n",
      "[1] \"full: k=6, BIC=607935198.354621\"\n",
      "[1] \"full: k=8, BIC=606205840.947613\"\n",
      "[1] \"full: k=10, BIC=605381567.134337\"\n",
      "[1] \"full: k=12, BIC=604526846.922961\"\n",
      "[1] \"full: k=14, BIC=604155500.863832\"\n",
      "[1] \"full: k=16, BIC=603592808.262421\"\n",
      "[1] \"full: k=18, BIC=603287373.245804\"\n",
      "[1] \"full: k=20, BIC=602878370.065682\"\n"
     ]
    }
   ],
   "source": [
    "for (k in ks) {\n",
    "    res <- GMM.fit(fm.data, k=k, cov.type = \"full\")\n",
    "    scores[k/2, 2] <- BIC(res)\n",
    "    print(paste(\"full: k=\",k,\", BIC=\", scores[k/2,2], sep=\"\"))\n",
    "}"
   ]
  },
  {
   "cell_type": "code",
   "execution_count": 1,
   "metadata": {},
   "outputs": [
    {
     "ename": "ERROR",
     "evalue": "Error in eval(expr, envir, enclos): object 'scores' not found\n",
     "output_type": "error",
     "traceback": [
      "Error in eval(expr, envir, enclos): object 'scores' not found\nTraceback:\n"
     ]
    }
   ],
   "source": []
  },
  {
   "cell_type": "code",
   "execution_count": null,
   "metadata": {
    "collapsed": true
   },
   "outputs": [],
   "source": []
  }
 ],
 "metadata": {
  "kernelspec": {
   "display_name": "R",
   "language": "R",
   "name": "ir"
  },
  "language_info": {
   "codemirror_mode": "r",
   "file_extension": ".r",
   "mimetype": "text/x-r-source",
   "name": "R",
   "pygments_lexer": "r",
   "version": "3.4.1"
  }
 },
 "nbformat": 4,
 "nbformat_minor": 2
}
