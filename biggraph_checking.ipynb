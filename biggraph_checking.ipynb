{
 "cells": [
  {
   "cell_type": "markdown",
   "metadata": {},
   "source": [
    "# NDMG Big Graphs\n",
    "\n",
    "In this notebook, we will take a look at our big-graph generation code to verify that it is working properly. \n",
    "\n",
    "# Algorithm Overview\n",
    "\n",
    "For this function, we make very few changes to Greg's existing code, except instead of using ROI ids, we use the mortion ID of each point that is connected to a fiber. \n",
    "\n",
    "### Advantages\n",
    "\n",
    "This has the advantage of being the \"most data driven\" approach to generating a big-graph from the diffusion images. That is, we implicitly define a graph from the fibers for a particular subject without respect to anything but the image itself. \n",
    "\n",
    "### Disadvantages\n",
    "\n",
    "This has the disadvantage that if our registrations are off by a few voxels, or the tracts do not reach all voxels in particular brains, we will not have consistent node labelling between the images. However, local graph statistics (rather than between graph statistics, which would require consistent node labelling) should function well (to be explored in a later notebook).\n",
    "\n",
    "We will start by checking our code with a small subset of data. We first pull a large set of fiber streamlines from openconnecto.me:"
   ]
  },
  {
   "cell_type": "code",
   "execution_count": null,
   "metadata": {},
   "outputs": [],
   "source": [
    "import ndmg\n",
    "import ndmg.utils as mgu\n",
    "\n",
    "cmd = \"wget --no-check-certificate --no-proxy 'https://mrneurodata.s3.amazonaws.com/data/BNU1/ndmg_0-0-48/fibers/sub-0025864_ses-1_dwi_fibers.npz'\"\n",
    "mgu().execute_cmd(cmd)"
   ]
  },
  {
   "cell_type": "markdown",
   "metadata": {},
   "source": [
    "Next, we will open the full fibers, and subset the first 20 streamlines from this as our small fibers:"
   ]
  },
  {
   "cell_type": "code",
   "execution_count": null,
   "metadata": {
    "collapsed": true
   },
   "outputs": [],
   "source": [
    "import numpy as np\n",
    "\n",
    "bf = np.load('sub-0025864_ses-1_dwi_fibers.npz')['arr_0']"
   ]
  },
  {
   "cell_type": "code",
   "execution_count": null,
   "metadata": {
    "scrolled": true
   },
   "outputs": [],
   "source": [
    "sf = bf[0:20]  # smaller graph with 5 streamlines"
   ]
  },
  {
   "cell_type": "markdown",
   "metadata": {},
   "source": [
    "Finally, we are able to run our graph generation code to obtain a graph from our streamlines:"
   ]
  },
  {
   "cell_type": "code",
   "execution_count": null,
   "metadata": {},
   "outputs": [],
   "source": [
    "from ndmg.graph import biggraph as ndbg\n",
    "\n",
    "uf = sf[0:5]\n",
    "sg = ndbg()\n",
    "sg.make_graph(uf)"
   ]
  },
  {
   "cell_type": "code",
   "execution_count": null,
   "metadata": {
    "collapsed": true
   },
   "outputs": [],
   "source": []
  },
  {
   "cell_type": "code",
   "execution_count": null,
   "metadata": {
    "collapsed": true
   },
   "outputs": [],
   "source": []
  }
 ],
 "metadata": {
  "kernelspec": {
   "display_name": "Python 2",
   "language": "python",
   "name": "python2"
  },
  "language_info": {
   "codemirror_mode": {
    "name": "ipython",
    "version": 2
   },
   "file_extension": ".py",
   "mimetype": "text/x-python",
   "name": "python",
   "nbconvert_exporter": "python",
   "pygments_lexer": "ipython2",
   "version": "2.7.12"
  }
 },
 "nbformat": 4,
 "nbformat_minor": 2
}
